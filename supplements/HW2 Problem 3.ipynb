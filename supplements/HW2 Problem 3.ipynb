{
 "cells": [
  {
   "cell_type": "markdown",
   "id": "c5d8edc3",
   "metadata": {},
   "source": [
    "#### An outline from Chris Marshall for HW2. "
   ]
  },
  {
   "cell_type": "code",
   "execution_count": 1,
   "id": "896013e2",
   "metadata": {},
   "outputs": [],
   "source": [
    "import numpy as np\n",
    "\n",
    "# 10 evenly spaced data points between 0.1 and 1\n",
    "x = np.linspace(0.1, 1, 10)\n",
    "\n",
    "for n in range(1000):\n",
    "    # Randomly generate yi from y=x, varied by a Gaussian with sigma = 0.1\n",
    "    yi = np.random.normal(x, 0.1)\n",
    "    \n",
    "    # Fit with a first-order polynomial (i.e. linear)\n",
    "    fit = np.polyfit(x, yi, 1) \n",
    "\n",
    "    slope = fit[0]\n",
    "    intercept = fit[1]\n",
    "\n",
    "# Generate an array of 1000 random numbers from a chi2 distribution with 10 dof\n",
    "chi2dist = np.random.chisquare(10,1000)"
   ]
  }
 ],
 "metadata": {
  "kernelspec": {
   "display_name": "Python 3",
   "language": "python",
   "name": "python3"
  },
  "language_info": {
   "codemirror_mode": {
    "name": "ipython",
    "version": 3
   },
   "file_extension": ".py",
   "mimetype": "text/x-python",
   "name": "python",
   "nbconvert_exporter": "python",
   "pygments_lexer": "ipython3",
   "version": "3.13.1"
  }
 },
 "nbformat": 4,
 "nbformat_minor": 5
}
