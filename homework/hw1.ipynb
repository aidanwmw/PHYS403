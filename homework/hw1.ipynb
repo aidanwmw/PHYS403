{
 "cells": [
  {
   "cell_type": "markdown",
   "metadata": {},
   "source": [
    "## Homework 1 :  Physics 403, S25\n",
    "Aidan Meador-Woodruff (ameadorw@ur.rochester.edu)\n",
    "\n",
    "Due: Friday 07 February, 2025"
   ]
  },
  {
   "cell_type": "code",
   "execution_count": 5,
   "metadata": {},
   "outputs": [],
   "source": [
    "import numpy as np"
   ]
  },
  {
   "cell_type": "markdown",
   "metadata": {},
   "source": [
    "### Problem 1 : Relation between the Logical Sum and the Logical Union.\n",
    "*We are given that the probability of A or B being true is*\n",
    "\n",
    "$$ P(A+B|I) = P(A|I) + P(B|I) - P(A,B|I) $$\n",
    "\n",
    "*We wish to prove that this is true using the rules of probability and Boolean algebra.*\n",
    "\n",
    "---\n",
    "\n",
    "By definition, the logical sum $A+B$ is the union $A \\cup B$ and the logical product is the intersection $AB = A\\cap B$. The conditional probability in such terms is \n",
    "\n",
    "$$P(A|B) = \\frac{P(A \\cap B)}{P(B)} = \\frac{P(B|A) P(A)}{P(B)}$$\n",
    "\n",
    "Hence, this means we have that $P(A+B|I) = P(A\\cup B | I)$. Then, rewriting the equation above, we see that\n",
    "\n",
    "$$P(A\\cup B | I) = \\frac{P((A\\cup B) \\cap I)}{P(I)}$$\n",
    "\n",
    "Expanding the numerator, we get that \n",
    "\n",
    "$$P(A\\cup B | I) = \\frac{P((A\\cap I) \\cup (B\\cap I))}{P(I)}$$\n",
    "\n",
    "The set intersection formula gives us that \n",
    "\n",
    "$$A\\cup B = A + B - A\\cap B$$\n",
    "Hence, we get that \n",
    "\n",
    "$$P(A \\cup B | I) = \\frac{1}{P(I)} \\left[P(A) + P(B) - P(A\\cap B)\\right]$$\n",
    "\n",
    "But, we know from the definition of conditional probability that\n",
    "\n",
    "$$P(A|I) = \\frac{P(A)}{P(I)}$$\n",
    "and likewise that\n",
    "\n",
    "$$P(B|I) = \\frac{P(B)}{P(I)}$$\n",
    "and finally\n",
    "\n",
    "$$P(A\\cap B|I) = \\frac{P(A\\cap B)}{P(I)} = P(A,B|I)$$\n",
    "and thus this simplifies to\n",
    "\n",
    "$$P(A\\cup B|I) = P(A|I) + P(B|I) - P(A, B|I)$$\n",
    "as desired.\n",
    "\n",
    "---\n",
    "After having done this, I realized it's a bit circular to use the set intersection formula (since it is a bit trivial to see after applying it). After discussions with my dear friends and collaborators Michel Malda, Matt Guerrero, and Matt Wanink in our class, I decided to derive it an alternative way:\n",
    "\n",
    "Looking at the Venn diagram, have three regions, from left to right: $A\\bar{B}$, $AB$, and $\\bar{A}B$. We can see that by the union of sets, we should have that $A\\cup B =A\\bar{B} + AB + \\bar{A}B$. Hence, the probability will be \n",
    "\n",
    "$$P(A+B|I) = P(A\\bar{B}|I)+P(AB|I) + P(\\bar{A}B|I)$$\n",
    "We can apply the product rule to these to make our lives easier. We want to keep our term of $P(AB|I)$, as it ends up in the final expression. We end up getting that \n",
    "\n",
    "$$P(\\bar{A}B|I) = P(\\bar{A}|BI)P(B|I) = (1- P(A|BI))P(B|I)$$\n",
    "and that\n",
    "$$P(A\\bar{B}|I) = P(A|\\bar{B}I)P(A|I) = (1-P(A|BI))P(A|I)$$\n",
    "Hence, we get that \n",
    "\n",
    "$$P(A+B|I) = (1- P(A|BI))P(B|I)+P(AB|I) + (1-P(A|BI))P(A|I)$$\n",
    "We know that $P(A|BI)P(B|I)=P(A|BI)P(A|I)=P(AB|I)$, hence,\n",
    "$$P(A+B|I) = P(B|I) + P(A|I) - 2 P(AB|I) +P(AB|I)$$\n",
    "Which is finally\n",
    "\n",
    "$$P(A+B|I) = P(B|I) + P(A|I) -P(AB|I)$$\n",
    "as desired."
   ]
  },
  {
   "cell_type": "markdown",
   "metadata": {},
   "source": [
    "### Problem 2 : Smoking Kills\n",
    "*We know that smoking is bad and adults who smoke are ~25 times more likely to develop lung cancer than non-smokers. Given a woman has been diagnosed with lung cancer, we wish to find the probability that the is a smoker, given we know nothing else about her.*\n",
    "\n",
    "---\n",
    "\n",
    "The probabilistic quantity we wish to find is the probability that this woman is a smoker given that she has lung cancer. This is $P(\\rm{Smokes | Cancer})$. We know that adults who do smoke are 25 times more likely to get cancer than those who do not, so, this means that \n",
    "\n",
    "$$ P({\\rm{Cancer | Smokes}}) = 25 P(\\rm {Cancer | Doesn't ~ Smoke})$$\n",
    "\n",
    "The conditional probability is given by Baye's Theorem\n",
    "\n",
    "$$P(A|B) = \\frac{P(B|A)P(A)}{P(B)}$$\n",
    "\n",
    "Hence, we have that \n",
    "\n",
    "$$P(\\rm{Smokes | Cancer}) = \\frac{P(\\rm {Cancer | Smokes}) P(\\rm Smokes)}{P(\\rm Cancer)}$$\n",
    "\n",
    "By the law of total probaility, we may express $P\\rm(Cancer)$ as \n",
    "$$P{\\rm(Cancer)}= P({\\rm{Cancer | Smokes}}) P({\\rm{Smokes}}) +P({\\rm{Cancer | Doesn't~  Smoke}}) P({\\rm{Doesn't ~ Smoke}}) $$\n",
    "\n",
    "I have realized this is somewhat annoying to type. Henceforth, let's call Smokes = $S$, Cancer = $C$, and Doesn't Smoke = $\\bar S$. Thus, we can rewrite this above as \n",
    "\n",
    "$$P(C) = P(C|S)P(S) + P(C|\\bar{S}) P(\\bar{S})$$\n",
    "\n",
    "Much better. We may simplify this by out first observation that $P(C|S) = 25P(C|\\bar{S})$. Hence,\n",
    "\n",
    "$$P(C) = 25P(C|\\bar{S}) P(S) + P(C|\\bar{S}) P(\\bar{S})$$\n",
    "\n",
    "We have been given a hint that we shall call the share of smokers some $s$. This means $P(S) = s$ and that $P(\\bar{S}) =1-s$. So, this becomes\n",
    "\n",
    "$$P(C) = 25P(C|\\bar{S} )s + P(C|\\bar{S})(1-s) = (24s + 1)P(C|\\bar{S})$$\n",
    "\n",
    "Hence, Baye's theorem becomes\n",
    "\n",
    "$$P(S|C) = \\frac{P(C|S) P(S)}{(24s+1) P(C|\\bar{S})} = \\frac{25 P(C|\\bar{S}) s}{(24s+1) P(C|\\bar{S})} = \\frac{25s}{24s+1}$$\n",
    "\n",
    "Hence, the probability that a woman who has cancer smoked is\n",
    "\n",
    "$$\\boxed{P(S|C) = \\frac{25s}{24s+1}}$$\n",
    "\n",
    "According to the American Lung Association at [lung.org](https://www.lung.org/quit-smoking/smoking-facts/impact-of-tobacco-use/women-and-tobacco-use#:~:text=Quit%20Smoking,-Join%20Freedom%20From&text=Smoking%20and%20use%20of%20tobacco,compared%20to%2013.1%25%20of%20men.) (awesome domain), 10.1% of American women smoke. Assuming this woman to be American, we evaluate $s=0.101$ and obtain that\n",
    "\n",
    "$$P(S|C) = \\frac{25\\cdot 0.101}{24\\cdot 0.101 + 1}$$\n",
    "\n",
    "This is evaluated in the cell below:"
   ]
  },
  {
   "cell_type": "code",
   "execution_count": 2,
   "metadata": {},
   "outputs": [
    {
     "name": "stdout",
     "output_type": "stream",
     "text": [
      "The probability that this woman is a smoker is about ~73.7%. Don't smoke!\n"
     ]
    }
   ],
   "source": [
    "pcgivens = (25*0.101)/(24*0.101 + 1)\n",
    "print(f'The probability that this woman is a smoker is about ~{pcgivens*100:0.3g}%. Don\\'t smoke!')"
   ]
  },
  {
   "cell_type": "markdown",
   "metadata": {},
   "source": [
    "### Problem 3 : Blue Eyes are Recessive\n",
    "\n",
    "*a). We have two-brown eyed parents who carry the gene for blue eyes. Their child has a 25% chance of having blue eyes. If they have three children,at least one of whom has blue eyes, we wish to know the probability that at least two of them have blue eyes.*\n",
    "\n",
    "I've learned from the last problem to name my variables shorter. We will call the variable for having blue eyes $B$. So, we wish to find the quantity $P(B\\geq 2 | B>1)$, meaning the probability that at least two children have blue eyes, given that we know at least one of them does. So, by using conditional probability, we know that \n",
    "\n",
    "\n",
    "$$P(B\\geq 2 | B\\geq 1) = \\frac{P(B>1|B\\geq 2) P(B \\geq 2)}{P(B \\geq 1)}$$\n",
    "Clearly, the probability that one kid has blue eyes given at least 2 of them has blue eyes is 100%. So, this is\n",
    "$$P(B\\geq 2 | B \\geq 1) = \\frac{P(B \\geq 2)}{P(B \\geq 1)}$$\n",
    "\n",
    "This obeys a binomial distribution with 3 trials and a $p$ of 1/4. That means the PMF is described by\n",
    "\n",
    "$$P(B=k) = {3 \\choose k} (0.25)^k (0.75)^{(3-k)}$$\n",
    "\n",
    "for $k \\in (0, 3)$ being the number of children with blue eyes. The probability that all three children have blue eyes is \n",
    "\n",
    "$$P(B=3) = {3 \\choose 3} (0.25)^3 (0.75)^0 = 0.25^3 = \\frac{1}{64} $$\n",
    "\n",
    "The probability that two have blue eyes is \n",
    "$$P(B=2) = {3 \\choose 2} (0.25)^2 (0.75)^1 = 3 \\cdot \\frac{1}{16} \\cdot \\frac{3}{4} = \\frac{9}{64}$$\n",
    "and, lastly, the probability that one has blue eyes is \n",
    "$$P(B=1) = {3 \\choose 1} (0.25)^1 (0.75)^2 = 3 \\cdot \\frac{1}{4} \\cdot \\frac{9}{16} = \\frac{27}{64}$$\n",
    "\n",
    "Hence, the probability that at least one has blue eyes is the sum of all of these, and the probability that at least two have blue eyes is the sum $P(B=2) + P(B=3)$. So, we see that \n",
    "\n",
    "$$P(B\\geq 2 | B\\geq 1) = \\frac{P(B \\geq 2)}{P(B\\geq 1)} = \\frac{\\frac{9}{64} + \\frac{1}{64}}{\\frac{9}{64} + \\frac{1}{64} + \\frac{27}{64}} = \\frac{\\frac{10}{64}}{\\frac{37}{64}} = \\frac{10}{37}$$\n",
    "\n",
    "Hence, the probability that at least two children have blue eyes given that at least one child has blue eyes is\n",
    "\n",
    "$$\\boxed{P(B\\geq 2 | B \\geq 1) = \\frac{10}{37} \\approx 27.03\\%}$$"
   ]
  },
  {
   "cell_type": "markdown",
   "metadata": {},
   "source": [
    "---\n",
    "\n",
    "*b). We now know that the youngest child has blue eyes, and wish to find the probability that at least two children have blue eyes.*\n",
    "\n",
    "\n",
    "Since it is explicitly given that the youngest child has blue eyes, we can equivalently say we want to know the probability that at least one of the remaining children has blue eyes. So, we want to find $P(B\\geq 1)$, but now, only looking at two of the children instead of all three. This probability is equivalent to the complement\n",
    "\n",
    "$$P(B\\geq 1) = 1 - P([B\\geq 1]^\\complement)$$\n",
    "\n",
    "The complement of at least one remaining children having blue eyes is that they both have brown eyes. The probability of that is $(0.75)^2$ (where we need not expand the binomial expression like before, because with only two trials, 2 choose k is always 1.) Hence, we see that \n",
    "\n",
    "$$P(B\\geq 1) = 1 - (0.75)^2 = 1 - \\frac{9}{16} = \\frac{7}{16}$$\n",
    "\n",
    "Hence, the probability of at least two children having blue eyes given the youngest has blue eyes is \n",
    "\n",
    "$$\\boxed{P(B \\geq 1) = \\frac{7}{16} = 43.75\\%}$$"
   ]
  },
  {
   "cell_type": "markdown",
   "metadata": {},
   "source": [
    "---\n",
    "*c). Lastly, we wish to write programs to confirm these are correct.* Below is the code for both cases, and they seem to agree."
   ]
  },
  {
   "cell_type": "code",
   "execution_count": 6,
   "metadata": {},
   "outputs": [
    {
     "name": "stdout",
     "output_type": "stream",
     "text": [
      "With 10000 trials, we obtain that the probability of at least two children having blue eyes given one has blue eyes is about 27.25%.\n"
     ]
    }
   ],
   "source": [
    "## Code for Problem 3a\n",
    "\n",
    "n = 10000 # Number of trials\n",
    "k = 3 # Number of children\n",
    "p = 0.25 # Probability of having blue eyes\n",
    "\n",
    "prob_blue = np.random.binomial(k, p, n) # Initializing the binomial distribution\n",
    "Pb1 = prob_blue >=1 # P(B>=1)\n",
    "Pb2 = prob_blue >=2 # P(B>=2)\n",
    "\n",
    "marginal_prob = np.sum(Pb1 & Pb2)/ np.sum(Pb1) # Marginal probability from above\n",
    "print(f'With {n} trials, we obtain that the probability of at least two children having blue eyes given one has blue eyes is about', f'{marginal_prob*100:0.4g}%.')"
   ]
  },
  {
   "cell_type": "code",
   "execution_count": 4,
   "metadata": {},
   "outputs": [
    {
     "name": "stdout",
     "output_type": "stream",
     "text": [
      "With 10000 trials, we obtain that the probability of at least two children having blue eyes given the youngest has blue eyes is about 44.13%.\n"
     ]
    }
   ],
   "source": [
    "## Code for Problem 3b\n",
    "\n",
    "n = 10000 # Number of trials\n",
    "k = 2 # Number of remaining children\n",
    "p = 0.25 # Probability of having blue eyes\n",
    "\n",
    "prob_blue = np.random.binomial(k, p, n) # Initializing the binomial distribution\n",
    "Pb1 = prob_blue >=1 # P(B>=1)\n",
    "\n",
    "marginal_prob = np.mean(Pb1) # Marginal probability from above\n",
    "print(f'With {n} trials, we obtain that the probability of at least two children having blue eyes given the youngest has blue eyes is about', f'{marginal_prob*100:0.4g}%.')"
   ]
  }
 ],
 "metadata": {
  "kernelspec": {
   "display_name": "Python 3",
   "language": "python",
   "name": "python3"
  },
  "language_info": {
   "codemirror_mode": {
    "name": "ipython",
    "version": 3
   },
   "file_extension": ".py",
   "mimetype": "text/x-python",
   "name": "python",
   "nbconvert_exporter": "python",
   "pygments_lexer": "ipython3",
   "version": "3.13.1"
  }
 },
 "nbformat": 4,
 "nbformat_minor": 2
}
