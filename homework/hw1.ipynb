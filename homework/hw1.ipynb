{
 "cells": [
  {
   "cell_type": "markdown",
   "metadata": {},
   "source": [
    "### Homework 1 :  Physics 403, S25\n",
    "Aidan Meador-Woodruff (ameadorw@ur.rochester.edu)\n"
   ]
  },
  {
   "cell_type": "code",
   "execution_count": 2,
   "metadata": {},
   "outputs": [],
   "source": [
    "# Glorious import statements.\n",
    "import numpy as np\n",
    "from matplotlib import pyplot as plt"
   ]
  },
  {
   "cell_type": "markdown",
   "metadata": {},
   "source": [
    "#### Problem 1 : Relation between the Logical Sum and the Logical Union.\n",
    "*We are given that the probability of A or B being true is*\n",
    "\n",
    "$$ P(A+B|I) = P(A|I) + P(B|I) - P(A,B|I) $$\n",
    "\n",
    "*We wish to prove that this is true using the rules of probability and Boolean algebra.*\n",
    "\n",
    "---\n",
    "\n",
    "By definition, the logical sum $A+B$ is the union $A \\cup B$ and the logical product is the intersection $AB = A\\cap B$. The conditional probability in such terms is \n",
    "\n",
    "$$P(A|B) = \\frac{P(A \\cap B)}{P(B)} = \\frac{P(B|A) P(A)}{P(B)}$$\n",
    "\n",
    "Hence, this means we have that $P(A+B|I) = P(A\\cup B | I)$. Then, rewriting the equation above, we see that\n",
    "\n",
    "$$P(A\\cup B | I) = \\frac{P((A\\cup B) \\cap I)}{P(I)}$$\n",
    "\n",
    "Expanding the numerator, we get that \n",
    "\n",
    "$$P(A\\cup B | I) = \\frac{P((A\\cap I) \\cup (B\\cap I))}{P(I)}$$\n",
    "\n",
    "The set intersection formula gives us that \n",
    "\n",
    "$$A\\cup B = A + B - A\\cap B$$\n",
    "Hence, we get that \n",
    "\n",
    "$$P(A \\cup B | I) = \\frac{1}{P(I)} \\left[P(A) + P(B) - P(A\\cap B)\\right]$$\n",
    "\n",
    "But, we know from the definition of conditional probability that\n",
    "\n",
    "$$P(A|I) = \\frac{P(A)}{P(I)}$$\n",
    "and likewise that\n",
    "\n",
    "$$P(B|I) = \\frac{P(B)}{P(I)}$$\n",
    "and finally\n",
    "\n",
    "$$P(A\\cap B|I) = \\frac{P(A\\cap B)}{P(I)} = P(A,B|I)$$\n",
    "and thus this simplifies to\n",
    "\n",
    "$$P(A\\cup B|I) = P(A|I) + P(B|I) - P(A, B|I)$$\n",
    "as desired.\n",
    "\n",
    "\n",
    "#### Not so sure about this."
   ]
  },
  {
   "cell_type": "markdown",
   "metadata": {},
   "source": [
    "---"
   ]
  },
  {
   "cell_type": "markdown",
   "metadata": {},
   "source": [
    "#### Problem 2 : Smoking Kills\n",
    "*We know that smoking is bad and adults who smoke are ~25 times more likely to develop lung cancer than non-smokers. Given a woman has been diagnosed with lung cancer, we wish to find the probability that the is a smoker, given we know nothing else about her.*\n",
    "\n",
    "---\n",
    "\n",
    "The probabilistic quanttity we wish to find is the probability that this woman is a smoker given that she has lung cancer. This is $P(\\rm{Smokes | Cancer})$. We know that adults who do smoke are 25 times more likely to get cancer than those who do not, so, this means that \n",
    "\n",
    "$$P(Smoke |)$$\n",
    "\n",
    "may use \n",
    "\n",
    "$$P(S|C) = \\frac{s}{s + (1-s)} P(\\bar{S}|C)$$"
   ]
  },
  {
   "cell_type": "markdown",
   "metadata": {},
   "source": [
    "#### Problem 3 : Blue Eyes are Recessive\n",
    "\n",
    "*a). We have two-brown eyed parents who carry the gene for blue eyes. Their child has a 25% chance of having blue eyes. If they have three children,at least one of whom has blue eyes, we wish to know the probability that at least two of them have blue eyes.*\n",
    "\n",
    "We seek to know P(At least 2 | One) "
   ]
  },
  {
   "cell_type": "code",
   "execution_count": 1,
   "metadata": {},
   "outputs": [],
   "source": [
    "## Code for Problem 3"
   ]
  }
 ],
 "metadata": {
  "kernelspec": {
   "display_name": "physics",
   "language": "python",
   "name": "python3"
  },
  "language_info": {
   "codemirror_mode": {
    "name": "ipython",
    "version": 3
   },
   "file_extension": ".py",
   "mimetype": "text/x-python",
   "name": "python",
   "nbconvert_exporter": "python",
   "pygments_lexer": "ipython3",
   "version": "3.12.0"
  }
 },
 "nbformat": 4,
 "nbformat_minor": 2
}
