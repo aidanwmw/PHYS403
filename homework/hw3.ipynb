{
 "cells": [
  {
   "cell_type": "markdown",
   "metadata": {},
   "source": [
    "## Homework 3 :  Physics 403, S25\n",
    "Aidan Meador-Woodruff (ameadorw@ur.rochester.edu)\n",
    "\n",
    "Due: Friday 21 February, 2025"
   ]
  },
  {
   "cell_type": "code",
   "execution_count": 1,
   "metadata": {},
   "outputs": [],
   "source": [
    "# Import statements\n",
    "import numpy as np\n",
    "import matplotlib.pyplot as plt"
   ]
  },
  {
   "cell_type": "markdown",
   "metadata": {},
   "source": [
    "### Problem 1 : Poisson Distribution\n",
    "*We wish to verify a few properties of the Poisson distribution,*\n",
    "$$p(m|\\lambda) = \\frac{\\lambda^m}{m!}e^{-\\lambda}$$\n",
    "---\n",
    "*a).* We first wish to show that $\\langle m \\rangle = \\lambda$. The expectation of a random variable is just the integral\n",
    "$$\\langle m \\rangle = \\sum_m m ~ p(m) $$\n",
    "Hence, the expectation of $m$ for the Poisson distribution is just\n",
    "$$\\langle m \\rangle = \\sum_{m\\geq 0} m \\left(\\frac{\\lambda^m}{m!}e^{-\\lambda}\\right) =  \\sum_{m\\geq 0} \\frac{\\lambda^m}{(m-1)!}e^{-\\lambda} $$\n",
    "Pulling out a factor of $\\lambda$ and $e^{-\\lambda}$,\n",
    "$$\\langle m \\rangle = \\lambda e^{-\\lambda }\\sum_{m\\geq 1} \\frac{\\lambda^{m-1}}{(m-1)!}$$\n",
    "We apply a change of index, $n=m-1$, and get that \n",
    "$$\\langle m \\rangle = \\lambda e^{-\\lambda }\\sum_{n\\geq 0} \\frac{\\lambda^{n}}{n!}$$\n",
    "This sum is exactly the Taylore expansion of the exponential function, giving us \n",
    "$$\\boxed{\\langle m \\rangle = \\lambda e^{-\\lambda}e^{\\lambda} = \\lambda}$$\n",
    "as desired.\n",
    "\n",
    "*b).* Next, we wish to show that the variance ${\\rm var}(m) = \\lambda$, also. The variance is given by\n",
    "$${\\rm var }(m) = \\langle m^2 \\rangle - \\langle m \\rangle^2$$\n",
    "We immediately know that $\\langle m \\rangle^2 = \\lambda^2$, as we found $\\langle m \\rangle$ immediately above. So, we must find $\\langle m^2 \\rangle$. By definition, it is\n",
    "$$\\langle m^2 \\rangle = \\sum_{m} m^2~ p(m)$$\n",
    "Hence, for the Poisson distribution,\n",
    "$$\\langle m^2 \\rangle = \\sum_{m \\geq 0} m^2 \\left(\\frac{\\lambda^m}{m!}e^{-\\lambda}\\right)  = \\sum_{m \\geq 0} \\frac{m\\lambda^m}{(m-1)!}e^{-\\lambda}$$\n",
    "We again pull out a factor of $\\lambda$ and $e^{-\\lambda}$ from the sum, seeing\n",
    "$$\\langle m^2 \\rangle = \\lambda e^{-\\lambda}\\sum_{m \\geq 1} \\frac{m\\lambda^{m-1}}{(m-1)!}$$\n",
    "We want to pull out another factor of $\\lambda$. To do this, we make a convenient observation that $\\frac{\\lambda^{m-1}}{(m-1)!} - \\frac{\\lambda^{m-1}}{(m-1)!} = 0$, so we can add it with impunity to our sum. Our sum then becomes\n",
    "$$\\langle m^2 \\rangle = \\lambda e^{-\\lambda} \\sum_{m \\geq 1} \\frac{m\\lambda^{m-1}}{(m-1)!} + \\frac{\\lambda^{m-1}}{(m-1)!} -  \\frac{\\lambda^{m-1}}{(m-1)!} $$\n",
    "At first this seems remarkably useless. Regrouping our terms, though, we see it isn't\n",
    "$$\\langle m^2 \\rangle = \\lambda e^{-\\lambda} \\sum_{m\\geq 1} \\frac{(m-1)\\lambda^{m-1}}{(m-1)!} + \\frac{\\lambda^{m-1}}{(m-1)!} $$\n",
    "Splitting these sums, we see\n",
    "$$\\langle m^2 \\rangle = \\lambda e^{-\\lambda} \\sum_{m\\geq 1} \\frac{(m-1)\\lambda^{m-1}}{(m-1)!} +\\lambda e^{-\\lambda} \\sum_{m\\geq 1} \\frac{\\lambda^{m-1}}{(m-1)!} $$\n",
    "The first term can be simplified, \n",
    "$$\\langle m^2 \\rangle = \\lambda e^{-\\lambda} \\sum_{m\\geq 1} \\frac{\\lambda^{m-1}}{(m-2)!} +\\lambda e^{-\\lambda} \\sum_{m\\geq 1} \\frac{\\lambda^{m-1}}{(m-1)!} $$\n",
    "Taking out another factor of $\\lambda$,\n",
    "$$\\langle m^2 \\rangle = \\lambda^2 e^{-\\lambda} \\sum_{m\\geq 2} \\frac{\\lambda^{m-2}}{(m-2)!} +\\lambda e^{-\\lambda} \\sum_{m\\geq 1} \\frac{\\lambda^{m-1}}{(m-1)!} $$\n",
    "Making a change of index that $n=m-1$ and $k=m-2$, this is \n",
    "$$\\langle m^2 \\rangle = \\lambda^2 e^{-\\lambda} \\sum_{k\\geq 0}  \\frac{\\lambda^k}{k!}+\\lambda e^{-\\lambda} \\sum_{m\\geq 0} \\frac{\\lambda^{n}}{n!} $$\n",
    "Both these sums are again just the Taylor seires of the exponential, so we get that \n",
    "$$\\langle m^2 \\rangle = \\lambda^2 + \\lambda $$\n",
    "Hence, the variance of $m$ is\n",
    "$$\\boxed{{\\rm var}(m) = (\\lambda^2 + \\lambda) - (\\lambda^2) = \\lambda}$$\n",
    "as desired.\n",
    "\n",
    "*c).* Lastly, we wish to show that if $x$ and $y$ are independent Poisson variables with $\\lambda_x$ and $\\lambda_y$. We wish to show that $z=x+y$ is Poisson with mean $\\lambda_z = \\lambda_x + \\lambda_y$. We proceed by using the hint, and considering the joint probability. Since $x$ and $y$ are independent, we know their joint probability is the product\n",
    "$$p(x,y|\\lambda_x,\\lambda_y) = p(x|\\lambda_x) ~ p(y|\\lambda_y)$$\n",
    "We must sum over all $x+y=z$, so the probability of $z$ is just \n",
    "$$p(z|\\lambda_z) = \\sum_{x'=0}^z p(x=x')p(y=z-x')$$\n"
   ]
  },
  {
   "cell_type": "markdown",
   "metadata": {},
   "source": [
    "### Problem 2 : Generating Gaussian Random Numbers\n",
    "**\n",
    "\n",
    "---\n",
    "*a).* "
   ]
  },
  {
   "cell_type": "markdown",
   "metadata": {},
   "source": [
    "### Problem 3 : Monte Carlo Integration\n",
    "**\n",
    "\n",
    "---\n",
    "*a).* "
   ]
  },
  {
   "cell_type": "markdown",
   "metadata": {},
   "source": []
  }
 ],
 "metadata": {
  "kernelspec": {
   "display_name": "Python 3",
   "language": "python",
   "name": "python3"
  },
  "language_info": {
   "codemirror_mode": {
    "name": "ipython",
    "version": 3
   },
   "file_extension": ".py",
   "mimetype": "text/x-python",
   "name": "python",
   "nbconvert_exporter": "python",
   "pygments_lexer": "ipython3",
   "version": "3.13.1"
  }
 },
 "nbformat": 4,
 "nbformat_minor": 2
}
